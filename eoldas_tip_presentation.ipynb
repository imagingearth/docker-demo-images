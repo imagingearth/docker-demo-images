{
 "cells": [
  {
   "cell_type": "markdown",
   "metadata": {
    "slideshow": {
     "slide_type": "slide"
    }
   },
   "source": [
    "# Retrieving biophysical parameters from optical data\n",
    "\n",
    "## J Gómez-Dans (NCEO/UCL) \n",
    "## N Pounder (Assimila Ltd)\n",
    "\n"
   ]
  },
  {
   "cell_type": "markdown",
   "metadata": {
    "slideshow": {
     "slide_type": "slide"
    }
   },
   "source": [
    "## What are we going to do?\n",
    "\n",
    "* Use some EO data\n",
    "* Extract a bunch of useful **parameters**\n",
    "* And uncertainties!\n",
    "* Explore some concepts of data assimilation applied to parameter retrieval"
   ]
  },
  {
   "cell_type": "markdown",
   "metadata": {
    "slideshow": {
     "slide_type": "slide"
    }
   },
   "source": [
    "# The data...\n",
    "\n",
    "* Use **broadband white sky albedo** (or BHR)\n",
    "![Albedo](https://ishtarc.wikispaces.com/file/view/albedo.gif/144751861/albedo.gif)\n",
    "\n",
    "* Remember that albedo is the fraction of radiation reflected by a surface\n",
    "* It is also an **Essential Climate Variable**\n",
    "* Most of the information on vegetation is contained in\n",
    "    * Visible and,\n",
    "    * Near infra-red regions\n",
    "* So, from these two measurements ($\\alpha_{VIS}$ and $\\alpha_{NIR}$)...\n",
    "* ... Can we extract any meaningful information on the land surface?\n"
   ]
  },
  {
   "cell_type": "markdown",
   "metadata": {
    "slideshow": {
     "slide_type": "slide"
    }
   },
   "source": [
    "# First data visualisation\n",
    "\n",
    "* Have a look at some annual series of albedo\n",
    "* Some interesting sites:\n",
    "    * US-MMR\n",
    "    * US-Brw\n",
    "    * RU-Ylr\n",
    "    * BR-Cax\n",
    "* What's interesting in these sites?"
   ]
  },
  {
   "cell_type": "markdown",
   "metadata": {
    "slideshow": {
     "slide_type": "slide"
    }
   },
   "source": [
    "# The model\n",
    "\n",
    "* We need a model to **predict** how the land properties affect the albedo\n",
    "* We will use the **Two stream**  model (aka *\"the TIP\"*)\n",
    "* The model is quite simple\n",
    "* Main assumption: vegetation structure complexity subsumed into amount of vegetation ($LAI$)\n",
    "    * As such, $LAI$ *is different* from **real** $LAI$!\n",
    "    * But we can calculate fluxes (e.g. *fAPAR*)\n",
    "* The TIP has been implemented in a number of DGVMs\n",
    "    * Parameters you retrieve from albedo using the TIP are directly useable by complex climate models\n",
    "    * Yay!"
   ]
  },
  {
   "cell_type": "markdown",
   "metadata": {
    "slideshow": {
     "slide_type": "slide"
    }
   },
   "source": [
    "# The TIP parameters\n",
    "\n",
    "* The tip describes vegetation with the following set of parameters:\n",
    "\n",
    "1. Leaf **single scattering albedo** in the VISIBLE\n",
    "2. Leaf **anysotropy** in the VISIBLE\n",
    "3. Background **soil albedo** in the VISIBLE\n",
    "4. Leaf **single scattering albedo** in the NIR\n",
    "5. Leaf **anysotropy** in the NIR\n",
    "6. Background **soil albedo** in the NIR\n",
    "7. **Effective** leaf area index (**LAI**)\n"
   ]
  },
  {
   "cell_type": "markdown",
   "metadata": {
    "slideshow": {
     "slide_type": "slide"
    }
   },
   "source": [
    "# The inversion\n",
    "\n",
    "* We will use the **`eoldas_ng`** DA engine\n",
    "* It's a Python library that implements a simple **variational 4DVAR + weak constraint** engine\n",
    "* It's assumed to be used for situations where we do not have mechanistic models\n",
    "* Emphasis is on blending observations from different sensors in a consistent way.\n",
    "* ``eoldas_ng`` uses **emulators** of state of the art RT models to interpret observations.\n",
    "* We have emulated TIP for you, and done some wrappers to the problem."
   ]
  },
  {
   "cell_type": "markdown",
   "metadata": {
    "slideshow": {
     "slide_type": "slide"
    }
   },
   "source": [
    "# First experiment\n",
    "\n",
    "* The JRC-TIP inverts albedo.\n",
    "* Remember...\n",
    "    * **Input**: **two** measures of broadband albedo. **Uncertain!!!**\n",
    "    * **Output**: **Seven** parameters\n",
    "* It's a very *ill posed* problem\n",
    "* Can only realistically solve it by putting some pretty strong priors on most parameters\n"
   ]
  },
  {
   "cell_type": "markdown",
   "metadata": {
    "slideshow": {
     "slide_type": "subslide"
    }
   },
   "source": [
    "\n",
    "![the tip prior](tip_priors.png)\n"
   ]
  },
  {
   "cell_type": "markdown",
   "metadata": {
    "slideshow": {
     "slide_type": "subslide"
    }
   },
   "source": [
    "From the previous plot:\n",
    "\n",
    "* Leaves occupy a small portion of all possible parameter space\n",
    "* Further we could consider just very \"green leaves\"\n",
    "* Soils show a strong correlation (e.g. the *soil line* of [Baret et al (1993)](http://www.ipgp.jussieu.fr/~jacquemoud/publications/baret1993a.pdf)\n",
    "\n"
   ]
  },
  {
   "cell_type": "markdown",
   "metadata": {
    "slideshow": {
     "slide_type": "subslide"
    }
   },
   "source": [
    "* This is how the **prior covariance matrix** looks like for a single date:\n",
    "![prior covariance matrix](tip_prior_covariance.png)\n"
   ]
  },
  {
   "cell_type": "code",
   "execution_count": null,
   "metadata": {
    "collapsed": true
   },
   "outputs": [],
   "source": []
  }
 ],
 "metadata": {
  "celltoolbar": "Slideshow",
  "kernelspec": {
   "display_name": "Python 2",
   "language": "python",
   "name": "python2"
  },
  "language_info": {
   "codemirror_mode": {
    "name": "ipython",
    "version": 2
   },
   "file_extension": ".py",
   "mimetype": "text/x-python",
   "name": "python",
   "nbconvert_exporter": "python",
   "pygments_lexer": "ipython2",
   "version": "2.7.12"
  }
 },
 "nbformat": 4,
 "nbformat_minor": 0
}
