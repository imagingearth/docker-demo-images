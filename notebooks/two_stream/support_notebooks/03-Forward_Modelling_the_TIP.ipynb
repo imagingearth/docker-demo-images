{
 "cells": [
  {
   "cell_type": "markdown",
   "metadata": {},
   "source": [
    "# Forward modelling the TIP\n",
    "\n",
    "This notebook describes the creation of a synthetic dataset of VIS & NIR albedos that will be used for testing the `eoldas_ng` machinery.\n",
    "\n",
    "The following parameters are set as in Bernard's prior, for simplicity (mixed leaves, I guess):\n",
    "\n",
    "* $\\omega_{VIS}$: 0.1700\n",
    "* $d_{VIS}$: 1\n",
    "* $a_{VIS}$: 0.1\n",
    "* $\\omega_{NIR}$: 0.7\n",
    "* $d_{NIR}$: 2\n",
    "* $a_{NIR}$: 0.18\n",
    "\n",
    "We use my tried & tested double logistic for LAI..\n"
   ]
  },
  {
   "cell_type": "code",
   "execution_count": 1,
   "metadata": {
    "collapsed": false
   },
   "outputs": [
    {
     "name": "stderr",
     "output_type": "stream",
     "text": [
      "/opt/anaconda/lib/python2.7/site-packages/matplotlib/__init__.py:872: UserWarning: axes.color_cycle is deprecated and replaced with axes.prop_cycle; please use the latter.\n",
      "  warnings.warn(self.msg_depr % (key, alt_key))\n"
     ]
    }
   ],
   "source": [
    "import numpy as np\n",
    "import matplotlib.pyplot as plt\n",
    "%matplotlib inline\n",
    "\n",
    "from TwoSInterface import twostream_solver\n",
    "\n",
    "def two_stream_model ( x, sun_angle, ucl_params=False ):\n",
    "    \"\"\"This function calculates absorption in the visible and NIR\n",
    "    for a given parameter vector x.\n",
    "\n",
    "    The parameter vector is:\n",
    "    1. $\\omega_{leaf,VIS}$\n",
    "    2. $d_{leaf, VIS}$\n",
    "    3. $r_{soil, VIS}$\n",
    "    4. $\\omega_{leaf,NIR}$\n",
    "    5. $d_{leaf, NIR}$\n",
    "    6. $r_{soil, NIR}$\n",
    "    7. $LAI$\n",
    "    \n",
    "    \"\"\"\n",
    "    from TwoSInterface import twostream_solver\n",
    "    #if np.any ( x[:-1] > 1.) or np.any ( x <= 0.01) \\\n",
    "    #         or ( x[-1] > 10):\n",
    "    #    return  [ -1, -1]\n",
    "    # These structural effective parameters are hardwired to be 1\n",
    "    structure_factor_zeta = 1.\n",
    "    structure_factor_zetastar = 1.\n",
    "    # Calculate leaf properties in VIS and NIR\n",
    "    # This first version of calculating refl & trans uses a slightly different\n",
    "    # formulation to Bernard's. This ought to help with the priors\n",
    "    # For the time being it's switched off\n",
    "    if ucl_params:\n",
    "        tvis = x[0]*x[1]\n",
    "        rvis = x[0] - tvis\n",
    "        tnir = x[3]*x[4]\n",
    "        rnir = x[3] - tnir\n",
    "    else:\n",
    "        ####################### Pinty et al, 2008 VERSION ###########################################\n",
    "        # Transmittance is single scattering albedo divided by (1+asymmetry)\n",
    "        tvis = x[0]/(1.+x[1])\n",
    "        rvis = x[1]*x[0]/(1+x[1])\n",
    "        tnir = x[3]/(1.+x[4])\n",
    "        rnir = x[4]*x[3]/(1+x[4])\n",
    "\n",
    "\n",
    "    # Model visible\n",
    "    ( collim_alb_tot_vis, collim_tran_tot_vis, collim_abs_tot_vis, \n",
    "        iso_alb_tot_vis, iso_tran_tot_vis, iso_abs_tot_vis ) = twostream_solver( \n",
    "        rvis, tvis, x[2], x[6], \n",
    "        structure_factor_zeta, structure_factor_zetastar, sun_angle )\n",
    "    # Model NIR\n",
    "    collim_alb_tot_nir, collim_tran_tot_nir, collim_abs_tot_nir, \\\n",
    "        iso_alb_tot_nir, iso_tran_tot_nir, iso_abs_tot_nir = \\\n",
    "        twostream_solver( rnir, tnir, x[5], x[6], \\\n",
    "        structure_factor_zeta, structure_factor_zetastar, \\\n",
    "        sun_angle )\n",
    "    # For fapar we return \n",
    "    #[ iso_abs_tot_vis, iso_abs_tot_nir]\n",
    "    return  [ collim_alb_tot_vis, collim_alb_tot_nir ]\n",
    "\n",
    "\n",
    "def dbl_logistic_model ( p, x ):\n",
    "    \"\"\"A double logistic model, as in Sobrino and Juliean, or Zhang et al\"\"\"\n",
    "    return p[0] + p[1]* ( 1./(1+np.exp(p[2]*(365.*x-p[3]))) + \\\n",
    "                          1./(1+np.exp(p[4]*(365.*x-p[5])))  - 1 )\n",
    "\n"
   ]
  },
  {
   "cell_type": "code",
   "execution_count": 4,
   "metadata": {
    "collapsed": false
   },
   "outputs": [
    {
     "data": {
      "text/plain": [
       "[<matplotlib.lines.Line2D at 0x7ff91739f710>]"
      ]
     },
     "execution_count": 4,
     "metadata": {},
     "output_type": "execute_result"
    },
    {
     "data": {
      "image/png": "[encoded data removed]",
      "text/plain": [
       "<matplotlib.figure.Figure at 0x7ff93c4c5150>"
      ]
     },
     "metadata": {},
     "output_type": "display_data"
    }
   ],
   "source": [
    "p = np.array([0.1, 5, -0.29, 120, 0.1, 240])\n",
    "x= np.arange(1,366)/365.\n",
    "#plt.plot(x, dbl_logistic_model(p,x) ,'-')\n",
    "L = dbl_logistic_model(p,x)\n",
    "albedo_vis = []\n",
    "albedo_nir = []\n",
    "doys = []\n",
    "lai = []\n",
    "for i in np.arange(1,366,16):\n",
    "    xx = np.array([0.17, 1., 0.1, 0.7, 2, 0.18, L[i]])\n",
    "    doys.append ( i )\n",
    "    av,an= two_stream_model ( xx, 30.)\n",
    "    albedo_vis.append ( av )\n",
    "    albedo_nir.append ( an )\n",
    "    lai.append ( L[i])\n",
    "doys = np.array ( doys )\n",
    "albedo_vis = np.array(albedo_vis)\n",
    "albedo_nir = np.array(albedo_nir)\n",
    "lai = np.array ( lai )\n",
    "plt.plot(doys, albedo_vis, 'o-')\n",
    "plt.plot(doys, albedo_nir, 'x-')"
   ]
  },
  {
   "cell_type": "code",
   "execution_count": 5,
   "metadata": {
    "collapsed": false
   },
   "outputs": [],
   "source": [
    "np.savetxt(\"synthetic_albedo.txt\", np.c_[doys, albedo_vis, albedo_nir, lai], fmt=\"%0.4f\", \n",
    "           header=\"DoY albedo_vis albedo_nir LAI\" )"
   ]
  },
  {
   "cell_type": "code",
   "execution_count": null,
   "metadata": {
    "collapsed": true
   },
   "outputs": [],
   "source": []
  }
 ],
 "metadata": {
  "kernelspec": {
   "display_name": "Python 2",
   "language": "python",
   "name": "python2"
  },
  "language_info": {
   "codemirror_mode": {
    "name": "ipython",
    "version": 2
   },
   "file_extension": ".py",
   "mimetype": "text/x-python",
   "name": "python",
   "nbconvert_exporter": "python",
   "pygments_lexer": "ipython2",
   "version": "2.7.12"
  }
 },
 "nbformat": 4,
 "nbformat_minor": 0
}
