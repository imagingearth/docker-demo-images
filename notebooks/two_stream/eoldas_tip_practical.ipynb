{
 "cells": [
  {
   "cell_type": "code",
   "execution_count": null,
   "metadata": {
    "collapsed": false
   },
   "outputs": [],
   "source": [
    "import numpy as np\n",
    "import matplotlib.pyplot as plt\n",
    "%matplotlib inline\n",
    "\n",
    "from da_functions import *\n",
    "\n",
    "from IPython.core.display import HTML\n",
    "  \n",
    "def css_styling():\n",
    "    styles = open(\"custom.css\", \"r\").read()\n",
    "    return HTML(styles)\n",
    "css_styling()\n"
   ]
  },
  {
   "cell_type": "markdown",
   "metadata": {},
   "source": [
    "<p><img src=\"http://www.esa.int/esalogo/images/logotype/img_colorlogo_darkblue.gif\" scale=\"1%\"  align=\"left\" /> <img src=\"nceologo200.gif\", align=\"right\" /></p>\n",
    "<p>&nbsp;</p>\n",
    "<p>&nbsp;</p>\n",
    "<p>&nbsp;</p>\n",
    "<p>&nbsp;</p>\n",
    "\n",
    "\n",
    "# Biophysical parameter retrieval with ``eoldas_ng``\n",
    "\n",
    "#### J Gómez-Dans (NCEO & UCL)\n",
    "\n",
    "<div class=\"warn\">\n",
    "<p> You can find this exercise as well as related information on <a href=\"https://jgomezdans.github.com/two_stream/\">this github page</a></p>\n",
    "</div>\n",
    "\n",
    "## Introduction\n",
    "\n",
    "In this practical, we consider the problem of extracting meaningful biophysical parameters from optical Earth Observation (EO) data. More concretely, we will use **bihemispherical broadband albedoes** as our input, interpret them through a simple **two-stream radiative transfer scheme** in order to retrieve a handful of parameters which are of interest in a large number of applications:\n",
    "\n",
    "1. Parameters related to leaf reflectance and transmittance in the visible and near-infrarred regions of the spectrum,\n",
    "2. Parameters describing the albedo of the soil under the vegetation,\n",
    "3. The *amount of vegetation*, expressed through an *effective* leaf area index (LAI).\n",
    "\n",
    "The two stream model has been used both for parameter retrieval (as we shall do here), but has also been implemented in a number of dynamic global vegetation models (DGVMs). This means that the parameters that are retrieved here will be strictly compatible with the same concepts in the DGVM, making them directly useable.\n",
    "\n",
    "In this practical, we consider that the main role of the vegetation is in **flux partitioning**, or in other words,the amount of radiation that is absorbed by the canopy to be further used in photosynthesis, for example. \n",
    "\n",
    "## Bits 'n' bobs\n",
    "\n",
    "### The input data\n",
    "\n",
    "A number of albedo products exist, such as the [GlobAlbedo product](http://globalbedo.org) or the [MODIS albedo product](https://www.umb.edu/spectralmass/terra_aqua_modis/v006/mcd43a2_albedo_product). In either of these cases, the products produce an estimate of the **bi-hemispherical reflectance** (BHR) (or *white sky albedo*) for a particular area at a particular time. The differences in these prodcuts are to do with whether data from one particular sensor was used, but are broadly comparable.\n",
    "\n",
    "We have extracted some data from the MODIS Collection 5 albedo product over a number of [FLUXNET sites](http://fluxnet.ornl.gov/). These are:\n",
    "\n",
    "| Site code | Site Name |\n",
    "|-----------|-----------|\n",
    "|AU-Tum | Tumbarumba|\n",
    "|BR-Cax | Caxiuana Forest-Almeirim|\n",
    "|CA-Ca1 | BC-Campbell River 1949 Douglas-fir|\n",
    "|DE-Geb | Gebesee|\n",
    "|DE-Hai | Hainich|\n",
    "|ES-LMa | Las Majadas del Tietar|\n",
    "|FI-Hyy | Hyytiala|\n",
    "|FR-Lam | Lamasquere|\n",
    "|IT-SRo | San Rossore|\n",
    "|RU-Ylr | Yakutsk-Larch|\n",
    "|SE-Abi | Abisko|\n",
    "|US-Bar | Bartlett Experimental Forest|\n",
    "|US-Bo1 | Bondville|\n",
    "|US-Brw | Barrow |\n",
    "|US-Dk2 | Duke Forest Hardwoods|\n",
    "|US-Ha2 | Harvard Forest Hemlock Site|\n",
    "|US-MMS | Morgan Monroe State Forest|\n",
    "|US-Me2 | Metolius Intermediate Pine|\n",
    "|US-Me3 | Metolius Second Young Pine|\n",
    "|US-Ne1 | Mead - irrigated continuous maize site|\n",
    "|US-Ne2 | Mead - irrigated maize-soybean rotation site|\n",
    "|US-Ne3 | Mead - rainfed maize-soybean rotation site|\n",
    "|US-Ton | Tonzi Ranch|\n",
    "|ZA-Kru | Skukuza|\n",
    "\n",
    "We will now visualise and explore the MODIS C5 BHR data a bit with the next code snippet...\n",
    "\n",
    "<div class=\"warn\">\n",
    "To run this, amend the following code cell with your chosen FLUXNET site (indicated by its code, e.g. <tt>\"ZA-Kru\"</tt> and year).\n",
    "</div>\n"
   ]
  },
  {
   "cell_type": "code",
   "execution_count": null,
   "metadata": {
    "collapsed": false
   },
   "outputs": [],
   "source": [
    "visualise_albedos(\"SE-Abi\", 2008)"
   ]
  },
  {
   "cell_type": "markdown",
   "metadata": {},
   "source": [
    "<div class=\"question\">\n",
    "<ul>\n",
    "<li> What are the main processes that are obvious in the data?</li>\n",
    "<li> How can you relate them to the site in question?</li>\n",
    "<li> Think of this in terms of radiation fluxes. What is this data telling you?</li>\n",
    "</ul>\n",
    "</div>"
   ]
  },
  {
   "cell_type": "markdown",
   "metadata": {
    "collapsed": true
   },
   "source": [
    "## The radiative transfer (RT) model\n",
    "\n",
    "We will use the \"two stream\" radiative transfer model of ([Pinty et al. (2007)](http://citeseerx.ist.psu.edu/viewdoc/download?doi=10.1.1.131.4066&rep=rep1&type=pdf) (but also [Pinty et al, (2011)](http://onlinelibrary.wiley.com/doi/10.1029/2010JD015372/full) and others). This is a fairly simple model that has been designed to monitor radiation fluxes in the land surface. \n",
    "\n",
    "The model has 7 parameters:\n",
    "\n",
    "1. Leaf **single scattering albedo** in the VISIBLE\n",
    "2. Leaf **anysotropy** in the VISIBLE\n",
    "3. Background **soil albedo** in the VISIBLE\n",
    "4. Leaf **single scattering albedo** in the NIR\n",
    "5. Leaf **anysotropy** in the NIR\n",
    "6. Background **soil albedo** in the NIR\n",
    "7. **Effective** leaf area index (**LAI**)\n",
    "\n",
    "These parameters are all that's necessary to describe the fluxes in a canopy. The price paide for this simplification is that the complexities of the 3D structure of the vegetation are dealt with by using an *effective* LAI. This LAI is different to the *true* LAI (with e.g. discontinuous crown clumping, etc.), but from the point of calculating fluxes like $fAPAR$, it is entirely equivalent, and simplifies things enormously.\n",
    "\n",
    "![TIP](http://romc.jrc.ec.europa.eu/WWW/PAGES/ROMC_Home/MISCELLANEOUS/HOM01.gif)\n",
    "\n",
    "The model describes the canopy in terms of the leave abundance, and by the optical properties of leaves. A soil background is also included. \n",
    "\n",
    "The use of spectral broadbands allows for a fairly simple description of leaf optical properties, which coupled with the amount of vegetation define the vegetation optical depth.\n",
    "\n",
    "If the vegetation is abundant, the effect of the soil will be negligible, as few photons will escape the canopy. However, if the soil is very bright (e.g. snow), this might be quite a significant amount. Also note that the vegetation optical depth is defined by the combination of leaf abundance as well as optical properties, so it is perfectly feasible to have the same albedos for two completely different canopies (e.g. one with low LAI and highly reflecting leaves, and one with darker leaves and high LAI). \n",
    "\n",
    "<div class=\"warn\">\n",
    "<p> Let's explore the Two Stream model. The <tt>visualise_twostream</tt> function will plot either the visible or NIR albedo sweeping one of the parameters (e.g. SSA, anysotropy, soil albedo or LAI). You can select only one parameter by setting its name to <tt>True</tt> in the function call. The parameters are <tt>omega_vis, d_vis, a_vis, lai_vis, omega_nir, d_nir, a_nir</tt> and <tt>lai_nir</tt>\n",
    "\n",
    "</div>\n",
    "\n"
   ]
  },
  {
   "cell_type": "code",
   "execution_count": null,
   "metadata": {
    "collapsed": false
   },
   "outputs": [],
   "source": [
    "visualise_twostream ( a_nir=True )"
   ]
  },
  {
   "cell_type": "markdown",
   "metadata": {},
   "source": [
    "<div class=\"question\">\n",
    "<ol>\n",
    "<li> What can you say about the nature of the two stream model?\n",
    "<li> The leaf parameters and the LAI describe the vegetation optical depth of the canopy. Can you think of how these parameters could interact?\n",
    "</ol>\n",
    "</div>"
   ]
  },
  {
   "cell_type": "markdown",
   "metadata": {},
   "source": [
    "## The inversion using ``eoldas_ng``\n",
    "\n",
    "In ``eoldas_ng``, we will solve the **inverse problem** of estimating the land surface parameters from albedo measurements (the forward problem is the simulation of albedo when the land surface parameters are known). For notational convenience, we stack the seven TIP parameters into a columnt vector $\\vec{x}=\\left[ \\omega_{VIS}, d_{VIS}, a_{VIS}, \\omega_{NIR}, d_{NIR}, a_{NIR}, LAI_{e}\\right]^{\\top}$. The TIP model will be $\\mathcal{H}$, and it predicts $\\alpha_{VIS}$ and $\\alpha_{NIR}$:\n",
    "\n",
    "$$\n",
    "\\mathcal{H}(\\vec{x}) = \\left[\\alpha_{VIS}, \\alpha_{NIR}\\right]^{\\top}.\n",
    "$$\n",
    "\n",
    "The measurements of albedo are given by $\\vec{R}$ (a two-element vector). Under the assumption that these measurements are contaminated by zero-mean Gaussian noise, we can write the **generative model of the observations** as\n",
    "\n",
    "$$\n",
    "\\vec{R} = \\mathcal{H}(\\vec{x}) + \\mathcal{N}(0,\\mathbf{C}_{obs}).\n",
    "$$\n",
    "\n",
    "This gives rise to the (log)likelihood function\n",
    "\n",
    "$$\n",
    "p(\\vec{R}|\\vec{x})\\propto \\frac{1}{2}\\left[\\mathcal{H}(\\vec{x}) - \\vec{R}\\right]^{\\top}\\mathbf{C}_{obs}^{-1}\\left[\\mathcal{H}(\\vec{x}) - \\vec{R}\\right].\n",
    "$$\n",
    "\n",
    "We can minimise this function, but given the nature of $\\mathcal{H}$ and the noise in the observations, there will be infinite solutions that pass through the measurements, so the problem is *ill posed*.\n",
    "\n",
    "A better way is to try to supplement the observations with prior distributions of parameters, e.g. $p(\\vec{x})$. If we assume that the prior distribution are normal, the likelihood is normal and we make an assumption on $\\mathcal{H}$ not being too non-linear, then we can use **Bayes' Rule** to write the **probability distribution** of $\\vec{x}$ when the observations $\\vec{R}$ have been considered:\n",
    "\n",
    "$$\n",
    "p(\\vec{x}|\\vec{R})\\propto \\overbrace{p(\\vec{x})}^{\\textrm{A priori}}\\cdot\\underbrace{p(\\vec{R}|\\vec{x})}_{\\textrm{Likelihood}}.\n",
    "$$\n",
    "\n",
    "It turns out that\n",
    "\n",
    "1. We can assume $p(\\vec{x}|\\vec{R})$ to be **Normal**\n",
    "2. Its mean vector is given by the *maximum a posteriori* (or MAP) value\n",
    "3. Its covariance matrix is given by the inverse of the Hessian matrix at the MAP point.\n",
    "\n",
    "Further, rather than solve for the MAP directly, we can solve for the value of $\\vec{x}$ that minimises the **log posterior**, and we can use **gradient descent methods** for this.\n",
    "\n",
    "``eoldas_ng`` makes all this easy to set-up. We will put some priors on parameters, and solve for each observation independently...\n",
    "\n",
    "### The prior\n",
    "\n",
    "We will use the prior distribution given by Pinty et al. (2011). Broadly, this is:\n",
    "\n",
    "![the tip prior](tip_priors.png)\n",
    "\n",
    "![the tip prior table](tip_prior_table.png)\n",
    "\n",
    "<div class=\"question\">\n",
    "<p>The prior has already been coded up for you to use. The following widget will allow you to select a site and year, and to run the TIP inversion on the albedo data, using the TIP prior as seen above. </p>\n",
    "</div>\n",
    "\n",
    "<div class=\"question\">\n",
    "<p>In the plots, the grey areas show the <strong>prior</strong> area (mean $\\pm$ 1 standard deviation. The vertical lines show the <strong>posterior</strong> area, and the line shows the prior mean (orange, dashed) and posterior mean (green, dots) </p>\n",
    "</div>\n",
    "\n",
    "<div class=\"warn\">\n",
    "<p>The next cell runs the inversions. As before, you can select the FLUXNET site, and the year. Additionally, you can specify a more restrictive prior distribution that assumes green and healthy leaves only (<tt>green_leaves=True</tt> or <tt>False</tt>). The inversion can be run for different random starting points, <tt>n_tries</tt> determines how many.\n",
    "\n",
    "</div>\n"
   ]
  },
  {
   "cell_type": "code",
   "execution_count": null,
   "metadata": {
    "collapsed": false
   },
   "outputs": [],
   "source": [
    "single_observation_inversion(\"US-MMS\", 2010, green_leaves=False, n_tries=5)"
   ]
  },
  {
   "cell_type": "markdown",
   "metadata": {},
   "source": [
    "<div class=\"question\">\n",
    "<ul>\n",
    "<li> Is the solution able to reproduce the observations well?\n",
    "<li> What can we say about the posterior mean for most parameters?\n",
    "<li> Is there a parameter where the posterior mean is consistently very different from the prior?\n",
    "<li> What about the prior vs posterior uncertainties?\n",
    "<li> What happens when there's no data?\n",
    "<li> What can you say about the uncertainty in e.g. LAI?\n",
    "<li> Try changing the leaves to be green. Do you see changes?\n",
    "<li> Run the inversion several times setting <tt>n_tries=1</tt>, and save the results. What can you observe?\n",
    "</ul>\n",
    "</div>"
   ]
  },
  {
   "cell_type": "markdown",
   "metadata": {
    "collapsed": true
   },
   "source": [
    "## Adding a model\n",
    "\n",
    "While the prior used earlier is reasonable, and has used to produce a decadal record of land surface parameters, it is apparent that the results are unrealistic: $LAI_{eff}$ is typically \"noisy\", which we know is not something that happens in reality, where the amount of vegetation changes **smoothly** (unless some disturbance event happens!).\n",
    "\n",
    "So rather than specifying always the same $LAI_{eff}$ as above, we could specify a *model* of the temporal evolution of $LAI_{eff}$. Although such models *do exist*, maybe we don't want to *pollute* the data with model assumptions. So what could be a very simple model for e.g. $LAI_{eff}$ to use? Possibly the simplest model is to assume that the $LAI_{eff}$ doesn't change from day to day, but (critically), we assume that the **model is wrong**. In other words, we can write the model with its error as:\n",
    "\n",
    "$$\n",
    "LAI_{eff}(t + 1) = LAI_{eff}(t) + \\mathcal{N}\\left(0,\\frac{1}{\\gamma}\\right)\n",
    "$$\n",
    "\n",
    "This model has interesting properties: it dampens high frequency variations in $LAI_{eff}$, and thus results in smoother trajectories, and also reduces uncertainty significantly (e.g. [*Lewis et al., (2012)*](http://dx.doi.org/10.1016/j.rse.2011.12.027)). Also, the model could also be used for all other land surface parameters."
   ]
  },
  {
   "cell_type": "markdown",
   "metadata": {},
   "source": [
    "As before, we'll have a play with the experiment...\n",
    "\n",
    "<div class=\"question\">\n",
    "<ul>\n",
    "<li> Select a site and year, and an amount of LAI regularisation ($\\gamma$). Typical values go from around 0.8 to 100, but feel free to explore other ranges (note that $\\gamma \\ge 0$ though!)</li>\n",
    "<li> What's the effect on the trajectory of the posterior mean? Compare the the dashed green line with the orane dotted line.</li>\n",
    "<li> What's the effect of adding this model to the posterior uncertainties?</li>\n",
    "<li> If you select a site with data gaps, what happens to the estimate of $LAI_{eff}$ in the data gaps?</li>\n",
    "<li> What happens if you increaes $\\gamma$ to a large value in situations where you have snow? Is this desirable?\n",
    "</ul>\n",
    "</div>"
   ]
  },
  {
   "cell_type": "code",
   "execution_count": null,
   "metadata": {
    "collapsed": false,
    "scrolled": false
   },
   "outputs": [],
   "source": [
    "regularised_inversion(\"US-MMS\", 2010, green_leaves=False, gamma_lai=10, n_tries=5)"
   ]
  },
  {
   "cell_type": "markdown",
   "metadata": {},
   "source": [
    "## Observational uncertainty\n",
    "\n",
    "The previous experiments have assumed a relative uncertainty in the albedos of 5 or 7% (depending whether the retrieval was considered a high or a low quality one). But what would happen if the uncertainty were larger? \n",
    "\n",
    "<div class=\"warn\">\n",
    "<p>The <tt>regularised_inversion</tt> function can be used to change the uncertainty by setting the optional <tt>albedo_unc</tt> parameter. This is set by default to <tt>[0.05, 0.07]</tt> but you can change it to something higher and see the results.\n",
    "</div>"
   ]
  },
  {
   "cell_type": "code",
   "execution_count": null,
   "metadata": {
    "collapsed": false
   },
   "outputs": [],
   "source": [
    "regularised_inversion(\"US-MMS\", 2010, green_leaves=False, gamma_lai=0, \n",
    "                      n_tries=5, albedo_unc=[0.07, 0.10])"
   ]
  },
  {
   "cell_type": "markdown",
   "metadata": {},
   "source": [
    "<div class=\"question\">\n",
    "<ul>\n",
    "<li> Have a go changing the uncertainty and seeing what the effect is.\n",
    "<li> Is this the correct way of proceeding? What's the limitation of this exercise?\n",
    "<li> Now consider the effect of <tt>gamma_lai</tt>. Can you use the temporal regularisation to compensate for the higher uncertainty?\n",
    "</ul>\n",
    "</div>"
   ]
  },
  {
   "cell_type": "markdown",
   "metadata": {
    "collapsed": true
   },
   "source": [
    "## Extending the prior\n",
    "\n",
    "Having priors available is a powerful concept in limiting the search space. In a Bayesian sense, once the data have been used to infer a posterior parameter distribution, this distribution can itself become a prior for the next dataset.\n",
    "\n",
    "In the previous case, we could think that we could invert one year, and use the posterior pdf as the prior for the current year. A problem is that using the prior as such might overemphasise it, so we can think that maybe inflating the posterior uncertainty to account for the fact that things can change from one year to the next is a useful approach.\n",
    "\n",
    "<div class=\"warn\">\n",
    "<p> The function <tt>prior_experiment</tt> allows you to explore this: the function will invert the previous year (with no regularisation), and use it as a prior, inflating the uncertainty by a factor <tt>inflation</tt> (by default, it is set to two, and it is applied to the standard deviation of the posterior parameter distribution).\n",
    "</div>"
   ]
  },
  {
   "cell_type": "code",
   "execution_count": null,
   "metadata": {
    "collapsed": false
   },
   "outputs": [],
   "source": [
    "prior_experiment ( \"ZA-Kru\", 2008, 0.8, inflation=1.)"
   ]
  },
  {
   "cell_type": "markdown",
   "metadata": {},
   "source": [
    "<div class=\"question\">\n",
    "<ul>\n",
    "<li> Visualise some sites, and try to figure out whether this prior approach is likely to succeed. What features do you think are important?\n",
    "<li> Try the approach with a site where it is likely to work well (according to your previous analysis), see what changing the inflation does (remember inflation should be higher than 1!)\n",
    "<li> Can you think of how you could still use this approach for the sites where you think it might not work?\n",
    "</ul>\n",
    "\n",
    "</div>"
   ]
  },
  {
   "cell_type": "code",
   "execution_count": null,
   "metadata": {
    "collapsed": true
   },
   "outputs": [],
   "source": []
  }
 ],
 "metadata": {
  "kernelspec": {
   "display_name": "Python 2",
   "language": "python",
   "name": "python2"
  },
  "language_info": {
   "codemirror_mode": {
    "name": "ipython",
    "version": 2
   },
   "file_extension": ".py",
   "mimetype": "text/x-python",
   "name": "python",
   "nbconvert_exporter": "python",
   "pygments_lexer": "ipython2",
   "version": "2.7.12"
  }
 },
 "nbformat": 4,
 "nbformat_minor": 0
}
