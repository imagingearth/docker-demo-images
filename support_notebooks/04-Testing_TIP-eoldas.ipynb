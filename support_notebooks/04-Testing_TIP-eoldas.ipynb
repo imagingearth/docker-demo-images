{
 "cells": [
  {
   "cell_type": "code",
   "execution_count": 1,
   "metadata": {
    "collapsed": false
   },
   "outputs": [
    {
     "name": "stderr",
     "output_type": "stream",
     "text": [
      "/opt/anaconda/lib/python2.7/site-packages/matplotlib/__init__.py:878: UserWarning: axes.color_cycle is deprecated and replaced with axes.prop_cycle; please use the latter.\n",
      "  warnings.warn(self.msg_depr % (key, alt_key))\n"
     ]
    }
   ],
   "source": [
    "import cPickle\n",
    "from collections import OrderedDict\n",
    "import numpy as np\n",
    "import matplotlib.pyplot as plt\n",
    "%matplotlib inline\n",
    "\n",
    "import gp_emulator\n",
    "from eoldas_ng import *\n",
    "from tip_helpers import StandardStateTIP, ObservationOperatorTIP"
   ]
  },
  {
   "cell_type": "code",
   "execution_count": 2,
   "metadata": {
    "collapsed": false
   },
   "outputs": [
    {
     "name": "stdout",
     "output_type": "stream",
     "text": [
      "Saving results to eoldas_retval_20160729_155648_cubil\n"
     ]
    }
   ],
   "source": [
    "state_config = OrderedDict()\n",
    "state_config['omega_vis'] = VARIABLE\n",
    "state_config['d_vis'] = VARIABLE\n",
    "state_config['a_vis'] = VARIABLE\n",
    "state_config['omega_nir'] = VARIABLE\n",
    "state_config['d_nir'] = VARIABLE\n",
    "state_config['a_nir'] = VARIABLE\n",
    "state_config['lai'] = VARIABLE\n",
    "\n",
    "state_grid = np.arange(1, 366)\n",
    "\n",
    "the_state = StandardStateTIP ( state_config, state_grid )\n",
    "\n"
   ]
  },
  {
   "cell_type": "code",
   "execution_count": 3,
   "metadata": {
    "collapsed": false
   },
   "outputs": [
    {
     "ename": "IOError",
     "evalue": "[Errno 2] No such file or directory: 'synthetic_albedo.txt'",
     "output_type": "error",
     "traceback": [
      "\u001b[0;31m---------------------------------------------------------------------------\u001b[0m",
      "\u001b[0;31mIOError\u001b[0m                                   Traceback (most recent call last)",
      "\u001b[0;32m<ipython-input-3-37656ff19340>\u001b[0m in \u001b[0;36m<module>\u001b[0;34m()\u001b[0m\n\u001b[1;32m      2\u001b[0m \u001b[0mgp_nir\u001b[0m \u001b[0;34m=\u001b[0m \u001b[0mcPickle\u001b[0m\u001b[0;34m.\u001b[0m\u001b[0mload\u001b[0m\u001b[0;34m(\u001b[0m\u001b[0mopen\u001b[0m\u001b[0;34m(\u001b[0m\u001b[0;34m\"tip_nir_albedo_transformed.pkl\"\u001b[0m\u001b[0;34m,\u001b[0m \u001b[0;34m'r'\u001b[0m\u001b[0;34m)\u001b[0m\u001b[0;34m)\u001b[0m\u001b[0;34m\u001b[0m\u001b[0m\n\u001b[1;32m      3\u001b[0m \u001b[0;34m\u001b[0m\u001b[0m\n\u001b[0;32m----> 4\u001b[0;31m \u001b[0mobs\u001b[0m \u001b[0;34m=\u001b[0m \u001b[0mnp\u001b[0m\u001b[0;34m.\u001b[0m\u001b[0mloadtxt\u001b[0m\u001b[0;34m(\u001b[0m\u001b[0;34m\"synthetic_albedo.txt\"\u001b[0m\u001b[0;34m)\u001b[0m\u001b[0;34m\u001b[0m\u001b[0m\n\u001b[0m\u001b[1;32m      5\u001b[0m \u001b[0mmask\u001b[0m \u001b[0;34m=\u001b[0m \u001b[0mnp\u001b[0m\u001b[0;34m.\u001b[0m\u001b[0mc_\u001b[0m\u001b[0;34m[\u001b[0m \u001b[0mobs\u001b[0m\u001b[0;34m[\u001b[0m\u001b[0;34m:\u001b[0m\u001b[0;34m,\u001b[0m\u001b[0;36m0\u001b[0m\u001b[0;34m]\u001b[0m\u001b[0;34m,\u001b[0m \u001b[0mnp\u001b[0m\u001b[0;34m.\u001b[0m\u001b[0mones\u001b[0m\u001b[0;34m(\u001b[0m\u001b[0mobs\u001b[0m\u001b[0;34m.\u001b[0m\u001b[0mshape\u001b[0m\u001b[0;34m[\u001b[0m\u001b[0;36m0\u001b[0m\u001b[0;34m]\u001b[0m\u001b[0;34m)\u001b[0m \u001b[0;34m]\u001b[0m\u001b[0;34m\u001b[0m\u001b[0m\n\u001b[1;32m      6\u001b[0m \u001b[0mobservations\u001b[0m \u001b[0;34m=\u001b[0m \u001b[0mobs\u001b[0m\u001b[0;34m[\u001b[0m\u001b[0;34m:\u001b[0m\u001b[0;34m,\u001b[0m\u001b[0;36m1\u001b[0m\u001b[0;34m:\u001b[0m\u001b[0;34m]\u001b[0m\u001b[0;34m\u001b[0m\u001b[0m\n",
      "\u001b[0;32m/opt/anaconda/lib/python2.7/site-packages/numpy/lib/npyio.pyc\u001b[0m in \u001b[0;36mloadtxt\u001b[0;34m(fname, dtype, comments, delimiter, converters, skiprows, usecols, unpack, ndmin)\u001b[0m\n\u001b[1;32m    801\u001b[0m                 \u001b[0mfh\u001b[0m \u001b[0;34m=\u001b[0m \u001b[0miter\u001b[0m\u001b[0;34m(\u001b[0m\u001b[0mbz2\u001b[0m\u001b[0;34m.\u001b[0m\u001b[0mBZ2File\u001b[0m\u001b[0;34m(\u001b[0m\u001b[0mfname\u001b[0m\u001b[0;34m)\u001b[0m\u001b[0;34m)\u001b[0m\u001b[0;34m\u001b[0m\u001b[0m\n\u001b[1;32m    802\u001b[0m             \u001b[0;32melif\u001b[0m \u001b[0msys\u001b[0m\u001b[0;34m.\u001b[0m\u001b[0mversion_info\u001b[0m\u001b[0;34m[\u001b[0m\u001b[0;36m0\u001b[0m\u001b[0;34m]\u001b[0m \u001b[0;34m==\u001b[0m \u001b[0;36m2\u001b[0m\u001b[0;34m:\u001b[0m\u001b[0;34m\u001b[0m\u001b[0m\n\u001b[0;32m--> 803\u001b[0;31m                 \u001b[0mfh\u001b[0m \u001b[0;34m=\u001b[0m \u001b[0miter\u001b[0m\u001b[0;34m(\u001b[0m\u001b[0mopen\u001b[0m\u001b[0;34m(\u001b[0m\u001b[0mfname\u001b[0m\u001b[0;34m,\u001b[0m \u001b[0;34m'U'\u001b[0m\u001b[0;34m)\u001b[0m\u001b[0;34m)\u001b[0m\u001b[0;34m\u001b[0m\u001b[0m\n\u001b[0m\u001b[1;32m    804\u001b[0m             \u001b[0;32melse\u001b[0m\u001b[0;34m:\u001b[0m\u001b[0;34m\u001b[0m\u001b[0m\n\u001b[1;32m    805\u001b[0m                 \u001b[0mfh\u001b[0m \u001b[0;34m=\u001b[0m \u001b[0miter\u001b[0m\u001b[0;34m(\u001b[0m\u001b[0mopen\u001b[0m\u001b[0;34m(\u001b[0m\u001b[0mfname\u001b[0m\u001b[0;34m)\u001b[0m\u001b[0;34m)\u001b[0m\u001b[0;34m\u001b[0m\u001b[0m\n",
      "\u001b[0;31mIOError\u001b[0m: [Errno 2] No such file or directory: 'synthetic_albedo.txt'"
     ]
    }
   ],
   "source": [
    "gp_vis = cPickle.load(open(\"tip_vis_albedo_transformed.pkl\", 'r'))\n",
    "gp_nir = cPickle.load(open(\"tip_nir_albedo_transformed.pkl\", 'r'))\n",
    "\n",
    "obs = np.loadtxt(\"synthetic_albedo.txt\")\n",
    "mask = np.c_[ obs[:,0], np.ones(obs.shape[0]) ]\n",
    "observations = obs[:,1:]\n",
    "print observations.shape, mask.shape\n"
   ]
  },
  {
   "cell_type": "code",
   "execution_count": 4,
   "metadata": {
    "collapsed": false
   },
   "outputs": [],
   "source": [
    "obsop = ObservationOperatorTIP ( state_grid, the_state, observations, mask, [gp_vis, gp_nir], np.array([0.001, 0.001]) )"
   ]
  },
  {
   "cell_type": "code",
   "execution_count": 5,
   "metadata": {
    "collapsed": false
   },
   "outputs": [
    {
     "data": {
      "text/plain": [
       "array([ 0.0915,  0.1844])"
      ]
     },
     "execution_count": 5,
     "metadata": {},
     "output_type": "execute_result"
    }
   ],
   "source": [
    "obsop.time_step(5)"
   ]
  },
  {
   "cell_type": "code",
   "execution_count": 6,
   "metadata": {
    "collapsed": false
   },
   "outputs": [
    {
     "ename": "AssertionError",
     "evalue": "",
     "output_type": "error",
     "traceback": [
      "\u001b[0;31m---------------------------------------------------------------------------\u001b[0m",
      "\u001b[0;31mAssertionError\u001b[0m                            Traceback (most recent call last)",
      "\u001b[0;32m<ipython-input-6-8e0811fc5831>\u001b[0m in \u001b[0;36m<module>\u001b[0;34m()\u001b[0m\n\u001b[1;32m      7\u001b[0m \u001b[0mx_dict\u001b[0m\u001b[0;34m[\u001b[0m\u001b[0;34m'a_nir'\u001b[0m\u001b[0;34m]\u001b[0m \u001b[0;34m=\u001b[0m \u001b[0mnp\u001b[0m\u001b[0;34m.\u001b[0m\u001b[0mones_like\u001b[0m \u001b[0;34m(\u001b[0m \u001b[0mstate_grid\u001b[0m\u001b[0;34m)\u001b[0m\u001b[0;34m*\u001b[0m\u001b[0;36m0.18\u001b[0m\u001b[0;34m\u001b[0m\u001b[0m\n\u001b[1;32m      8\u001b[0m \u001b[0mx_dict\u001b[0m\u001b[0;34m[\u001b[0m\u001b[0;34m'lai'\u001b[0m\u001b[0;34m]\u001b[0m \u001b[0;34m=\u001b[0m \u001b[0mnp\u001b[0m\u001b[0;34m.\u001b[0m\u001b[0mexp\u001b[0m\u001b[0;34m(\u001b[0m\u001b[0;34m-\u001b[0m\u001b[0;36m1.5\u001b[0m\u001b[0;34m*\u001b[0m\u001b[0;36m2.\u001b[0m\u001b[0;34m)\u001b[0m\u001b[0;34m\u001b[0m\u001b[0m\n\u001b[0;32m----> 9\u001b[0;31m \u001b[0mobsop\u001b[0m\u001b[0;34m.\u001b[0m\u001b[0mder_cost\u001b[0m \u001b[0;34m(\u001b[0m \u001b[0mx_dict\u001b[0m\u001b[0;34m,\u001b[0m \u001b[0mstate_config\u001b[0m \u001b[0;34m)\u001b[0m\u001b[0;34m\u001b[0m\u001b[0m\n\u001b[0m",
      "\u001b[0;32m/data/netapp_3/ucfajlg/python/twostream/tip_helpers.py\u001b[0m in \u001b[0;36mder_cost\u001b[0;34m(self, x_dict, state_config)\u001b[0m\n\u001b[1;32m    239\u001b[0m         \u001b[0;31m# uses the GP output from here\u001b[0m\u001b[0;34m\u001b[0m\u001b[0;34m\u001b[0m\u001b[0m\n\u001b[1;32m    240\u001b[0m         self.fwd_albedo_vis, self.dfwd_albedo_vis= self.emulators[0].predict (\n\u001b[0;32m--> 241\u001b[0;31m                             x_params[[0,1,2,6], :] )\n\u001b[0m\u001b[1;32m    242\u001b[0m         self.fwd_albedo_nir, self.dfwd_albedo_nir = self.emulators[0].predict ( \n\u001b[1;32m    243\u001b[0m                             x_params[[3,4,5,6], :] )\n",
      "\u001b[0;32m/home/ucfajlg/.local/lib/python2.7/site-packages/gp_emulator/GaussianProcess.pyc\u001b[0m in \u001b[0;36mpredict\u001b[0;34m(self, testing, do_unc)\u001b[0m\n\u001b[1;32m    233\u001b[0m \u001b[0;34m\u001b[0m\u001b[0m\n\u001b[1;32m    234\u001b[0m         \u001b[0;34m(\u001b[0m \u001b[0mnn\u001b[0m\u001b[0;34m,\u001b[0m \u001b[0mD\u001b[0m \u001b[0;34m)\u001b[0m \u001b[0;34m=\u001b[0m \u001b[0mtesting\u001b[0m\u001b[0;34m.\u001b[0m\u001b[0mshape\u001b[0m\u001b[0;34m\u001b[0m\u001b[0m\n\u001b[0;32m--> 235\u001b[0;31m         \u001b[0;32massert\u001b[0m \u001b[0mD\u001b[0m \u001b[0;34m==\u001b[0m \u001b[0mself\u001b[0m\u001b[0;34m.\u001b[0m\u001b[0mD\u001b[0m\u001b[0;34m\u001b[0m\u001b[0m\n\u001b[0m\u001b[1;32m    236\u001b[0m \u001b[0;34m\u001b[0m\u001b[0m\n\u001b[1;32m    237\u001b[0m         \u001b[0mexpX\u001b[0m \u001b[0;34m=\u001b[0m \u001b[0mnp\u001b[0m\u001b[0;34m.\u001b[0m\u001b[0mexp\u001b[0m \u001b[0;34m(\u001b[0m \u001b[0mself\u001b[0m\u001b[0;34m.\u001b[0m\u001b[0mtheta\u001b[0m \u001b[0;34m)\u001b[0m\u001b[0;34m\u001b[0m\u001b[0m\n",
      "\u001b[0;31mAssertionError\u001b[0m: "
     ]
    }
   ],
   "source": [
    "x_dict = OrderedDict()\n",
    "x_dict['omega_vis'] = np.ones_like ( state_grid )*0.17\n",
    "x_dict['d_vis'] = np.exp(-1.*np.ones_like ( state_grid))\n",
    "x_dict['a_vis'] = np.ones_like ( state_grid)*0.1\n",
    "x_dict['omega_nir'] = np.ones_like ( state_grid )*0.7\n",
    "x_dict['d_nir'] = np.exp(-2.*np.ones_like ( state_grid))\n",
    "x_dict['a_nir'] = np.ones_like ( state_grid)*0.18\n",
    "x_dict['lai'] = np.exp(-1.5*2.)\n",
    "obsop.der_cost ( x_dict, state_config )"
   ]
  },
  {
   "cell_type": "code",
   "execution_count": null,
   "metadata": {
    "collapsed": true
   },
   "outputs": [],
   "source": []
  },
  {
   "cell_type": "code",
   "execution_count": null,
   "metadata": {
    "collapsed": false
   },
   "outputs": [
    {
     "name": "stdout",
     "output_type": "stream",
     "text": [
      "> \u001b[0;32m/home/ucfajlg/.local/lib/python2.7/site-packages/gp_emulator/GaussianProcess.py\u001b[0m(235)\u001b[0;36mpredict\u001b[0;34m()\u001b[0m\n",
      "\u001b[0;32m    233 \u001b[0;31m\u001b[0;34m\u001b[0m\u001b[0m\n",
      "\u001b[0m\u001b[0;32m    234 \u001b[0;31m        \u001b[0;34m(\u001b[0m \u001b[0mnn\u001b[0m\u001b[0;34m,\u001b[0m \u001b[0mD\u001b[0m \u001b[0;34m)\u001b[0m \u001b[0;34m=\u001b[0m \u001b[0mtesting\u001b[0m\u001b[0;34m.\u001b[0m\u001b[0mshape\u001b[0m\u001b[0;34m\u001b[0m\u001b[0m\n",
      "\u001b[0m\u001b[0;32m--> 235 \u001b[0;31m        \u001b[0;32massert\u001b[0m \u001b[0mD\u001b[0m \u001b[0;34m==\u001b[0m \u001b[0mself\u001b[0m\u001b[0;34m.\u001b[0m\u001b[0mD\u001b[0m\u001b[0;34m\u001b[0m\u001b[0m\n",
      "\u001b[0m\u001b[0;32m    236 \u001b[0;31m\u001b[0;34m\u001b[0m\u001b[0m\n",
      "\u001b[0m\u001b[0;32m    237 \u001b[0;31m        \u001b[0mexpX\u001b[0m \u001b[0;34m=\u001b[0m \u001b[0mnp\u001b[0m\u001b[0;34m.\u001b[0m\u001b[0mexp\u001b[0m \u001b[0;34m(\u001b[0m \u001b[0mself\u001b[0m\u001b[0;34m.\u001b[0m\u001b[0mtheta\u001b[0m \u001b[0;34m)\u001b[0m\u001b[0;34m\u001b[0m\u001b[0m\n",
      "\u001b[0m\n",
      "ipdb> up\n",
      "> \u001b[0;32m/data/netapp_3/ucfajlg/python/twostream/tip_helpers.py\u001b[0m(241)\u001b[0;36mder_cost\u001b[0;34m()\u001b[0m\n",
      "\u001b[0;32m    239 \u001b[0;31m        \u001b[0;31m# uses the GP output from here\u001b[0m\u001b[0;34m\u001b[0m\u001b[0;34m\u001b[0m\u001b[0m\n",
      "\u001b[0m\u001b[0;32m    240 \u001b[0;31m        self.fwd_albedo_vis, self.dfwd_albedo_vis= self.emulators[0].predict (\n",
      "\u001b[0m\u001b[0;32m--> 241 \u001b[0;31m                            x_params[[0,1,2,6], :] )\n",
      "\u001b[0m\u001b[0;32m    242 \u001b[0;31m        self.fwd_albedo_nir, self.dfwd_albedo_nir = self.emulators[0].predict ( \n",
      "\u001b[0m\u001b[0;32m    243 \u001b[0;31m                            x_params[[3,4,5,6], :] )\n",
      "\u001b[0m\n",
      "ipdb> print x_params.shape\n",
      "(7, 365)\n"
     ]
    }
   ],
   "source": [
    "%debug"
   ]
  },
  {
   "cell_type": "code",
   "execution_count": 1,
   "metadata": {
    "collapsed": false
   },
   "outputs": [
    {
     "name": "stderr",
     "output_type": "stream",
     "text": [
      "/opt/anaconda/lib/python2.7/site-packages/matplotlib/__init__.py:872: UserWarning: axes.color_cycle is deprecated and replaced with axes.prop_cycle; please use the latter.\n",
      "  warnings.warn(self.msg_depr % (key, alt_key))\n"
     ]
    },
    {
     "ename": "SyntaxError",
     "evalue": "invalid syntax (tip_helpers.py, line 482)",
     "output_type": "error",
     "traceback": [
      "\u001b[0;36m  File \u001b[0;32m\"tip_helpers.py\"\u001b[0;36m, line \u001b[0;32m482\u001b[0m\n\u001b[0;31m    prior_inv_cov['a_vis'] = np.array ( [.0.959])\u001b[0m\n\u001b[0m                                              ^\u001b[0m\n\u001b[0;31mSyntaxError\u001b[0m\u001b[0;31m:\u001b[0m invalid syntax\n"
     ]
    }
   ],
   "source": [
    "import cPickle\n",
    "from collections import OrderedDict\n",
    "import numpy as np\n",
    "import matplotlib.pyplot as plt\n",
    "\n",
    "import gp_emulator\n",
    "from eoldas_ng import *\n",
    "from tip_helpers import StandardStateTIP, ObservationOperatorTIP\n",
    "\n",
    "state_config = OrderedDict()\n",
    "state_config['omega_vis'] = VARIABLE\n",
    "state_config['d_vis'] = VARIABLE\n",
    "state_config['a_vis'] = VARIABLE\n",
    "state_config['omega_nir'] = VARIABLE\n",
    "state_config['d_nir'] = VARIABLE\n",
    "state_config['a_nir'] = VARIABLE\n",
    "state_config['lai'] = VARIABLE\n",
    "\n",
    "state_grid = np.arange(1, 366)\n",
    "\n",
    "the_state = StandardStateTIP ( state_config, state_grid )\n",
    "\n",
    "\n",
    "gp_vis = cPickle.load(open(\"tip_vis_albedo_transformed.pkl\", 'r'))\n",
    "gp_nir = cPickle.load(open(\"tip_nir_albedo_transformed.pkl\", 'r'))\n",
    "\n",
    "obs = np.loadtxt(\"synthetic_albedo.txt\")\n",
    "mask = np.c_[ obs[:,0], np.ones(obs.shape[0]) ]\n",
    "observations = obs[:,1:]\n",
    "\n",
    "obsop = ObservationOperatorTIP ( state_grid, the_state, observations,\n",
    "            mask, [gp_vis, gp_nir], np.array([0.001, 0.001]) )\n",
    "\n",
    "x_dict = OrderedDict()\n",
    "x_dict['omega_vis'] = np.ones_like ( state_grid )*0.17\n",
    "x_dict['d_vis'] = np.exp(-1.*np.ones_like ( state_grid))\n",
    "x_dict['a_vis'] = np.ones_like ( state_grid)*0.1\n",
    "x_dict['omega_nir'] = np.ones_like ( state_grid )*0.7\n",
    "x_dict['d_nir'] = np.exp(-2.*np.ones_like ( state_grid))\n",
    "x_dict['a_nir'] = np.ones_like ( state_grid)*0.18\n",
    "x_dict['lai'] = np.exp(-1.5*2.)\n",
    "obsop.der_cost ( x_dict, state_config )"
   ]
  }
 ],
 "metadata": {
  "kernelspec": {
   "display_name": "Python 2",
   "language": "python",
   "name": "python2"
  },
  "language_info": {
   "codemirror_mode": {
    "name": "ipython",
    "version": 2
   },
   "file_extension": ".py",
   "mimetype": "text/x-python",
   "name": "python",
   "nbconvert_exporter": "python",
   "pygments_lexer": "ipython2",
   "version": "2.7.11"
  }
 },
 "nbformat": 4,
 "nbformat_minor": 0
}
