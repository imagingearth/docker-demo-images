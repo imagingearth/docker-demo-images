{
 "cells": [
  {
   "cell_type": "code",
   "execution_count": 1,
   "metadata": {
    "collapsed": false
   },
   "outputs": [
    {
     "name": "stderr",
     "output_type": "stream",
     "text": [
      "/opt/anaconda/lib/python2.7/site-packages/matplotlib/__init__.py:878: UserWarning: axes.color_cycle is deprecated and replaced with axes.prop_cycle; please use the latter.\n",
      "  warnings.warn(self.msg_depr % (key, alt_key))\n"
     ]
    }
   ],
   "source": [
    "import numpy as np\n",
    "import matplotlib.pyplot as plt\n",
    "%matplotlib inline\n",
    "\n",
    "from da_gui import *"
   ]
  },
  {
   "cell_type": "code",
   "execution_count": 3,
   "metadata": {
    "collapsed": false
   },
   "outputs": [
    {
     "data": {
      "image/png": "[encoded data removed]",
      "text/plain": [
       "<matplotlib.figure.Figure at 0x7f14636a9090>"
      ]
     },
     "metadata": {},
     "output_type": "display_data"
    }
   ],
   "source": [
    "visualise_albedos()"
   ]
  },
  {
   "cell_type": "code",
   "execution_count": null,
   "metadata": {
    "collapsed": false,
    "scrolled": false
   },
   "outputs": [],
   "source": [
    "single_observation_inversion()"
   ]
  },
  {
   "cell_type": "code",
   "execution_count": 2,
   "metadata": {
    "collapsed": false
   },
   "outputs": [
    {
     "name": "stdout",
     "output_type": "stream",
     "text": [
      "Saving results to eoldas_retval_20160805_195346_cubil\n"
     ]
    },
    {
     "name": "stderr",
     "output_type": "stream",
     "text": [
      "tip_inversion.py:111: VisibleDeprecationWarning: boolean index did not match indexed array along dimension 0; dimension is 46 but corresponding boolean dimension is 44\n",
      "  if passer_snow[i]:\n"
     ]
    },
    {
     "name": "stdout",
     "output_type": "stream",
     "text": [
      "[28.527337028850702, 25.451456202613723, 25.108642268351808, 26.912809161368376, 33.391350432919367]\n",
      "Chosen cost: 25.1086\n",
      "Saving results to eoldas_retval_20160805_195445_cubil\n"
     ]
    }
   ],
   "source": [
    "regularised_inversion()"
   ]
  },
  {
   "cell_type": "code",
   "execution_count": null,
   "metadata": {
    "collapsed": true
   },
   "outputs": [],
   "source": [
    "plt.fill_between?\n"
   ]
  },
  {
   "cell_type": "code",
   "execution_count": null,
   "metadata": {
    "collapsed": true
   },
   "outputs": [],
   "source": [
    "q"
   ]
  }
 ],
 "metadata": {
  "kernelspec": {
   "display_name": "Python 2",
   "language": "python",
   "name": "python2"
  },
  "language_info": {
   "codemirror_mode": {
    "name": "ipython",
    "version": 2
   },
   "file_extension": ".py",
   "mimetype": "text/x-python",
   "name": "python",
   "nbconvert_exporter": "python",
   "pygments_lexer": "ipython2",
   "version": "2.7.12"
  },
  "widgets": {
   "state": {
    "1defdb3fcc3d4ba3b3a44c50c305e56d": {
     "views": [
      {
       "cell_index": 1
      }
     ]
    },
    "37996589bcfe45e5be3441d41be72d3f": {
     "views": [
      {
       "cell_index": 2
      }
     ]
    },
    "3a6f5d5cafae4c3e95315e401cf5acaf": {
     "views": [
      {
       "cell_index": 3
      }
     ]
    },
    "3bab038318fe43ccae55cbcd5930c9c7": {
     "views": [
      {
       "cell_index": 3
      }
     ]
    },
    "40b958d192244db4be322586910720a1": {
     "views": [
      {
       "cell_index": 2
      }
     ]
    },
    "432aa2f22d02492cb53acc693c408e77": {
     "views": [
      {
       "cell_index": 2
      }
     ]
    },
    "5b2e388558eb46ef854779f736ef974c": {
     "views": [
      {
       "cell_index": 3
      }
     ]
    },
    "68bc5475946c4934a56fb3476cf2caf2": {
     "views": [
      {
       "cell_index": 2
      }
     ]
    },
    "7a55e51cf0a045bdb1eba982f84f5409": {
     "views": [
      {
       "cell_index": 2
      }
     ]
    },
    "86a795f10b334fa59817ab2549196d38": {
     "views": [
      {
       "cell_index": 3
      }
     ]
    },
    "95e29fa1d920463485b32b21cd153248": {
     "views": [
      {
       "cell_index": 3
      }
     ]
    },
    "9942efa5f5174bffb52f4f3476b0157c": {
     "views": [
      {
       "cell_index": 3
      }
     ]
    },
    "9bd696415a0646809c00261ac7bc1aca": {
     "views": [
      {
       "cell_index": 2
      }
     ]
    },
    "a88362d0cf3144c18e1324bca682328d": {
     "views": [
      {
       "cell_index": 3
      }
     ]
    },
    "b35607e157194d638750000404cbd1f8": {
     "views": [
      {
       "cell_index": 3
      }
     ]
    },
    "b60c1482f9f8481e8233634e700b5d8b": {
     "views": [
      {
       "cell_index": 3
      }
     ]
    },
    "de0b2ddba3b445a9882f335c29baef61": {
     "views": [
      {
       "cell_index": 2
      }
     ]
    },
    "fb2abb09dd0a4c729cfa3268f1d2bb51": {
     "views": [
      {
       "cell_index": 3
      }
     ]
    },
    "fe76dd4b92054fc8ad6933a96762bd4c": {
     "views": [
      {
       "cell_index": 2
      }
     ]
    }
   },
   "version": "1.2.0"
  }
 },
 "nbformat": 4,
 "nbformat_minor": 0
}
